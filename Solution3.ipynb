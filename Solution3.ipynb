{
 "cells": [
  {
   "attachments": {},
   "cell_type": "markdown",
   "metadata": {},
   "source": [
    "## the elbow method in clustering"
   ]
  },
  {
   "attachments": {},
   "cell_type": "markdown",
   "metadata": {},
   "source": [
    "the elbow method allaws by a graph to evidence how the variaty is lower when you choose a bigger number of clusters, this varitay insede the cluster is compute by the euclidean distance betwen the points and its cluster, this disteance will be 0 whe the cluster be the same rows, but there is an specific cuantity of clusters when the varibility try to get close to a 0 it is called the elbow, and that elbow is the optimal number of clusters "
   ]
  },
  {
   "attachments": {},
   "cell_type": "markdown",
   "metadata": {},
   "source": [
    "## which flaws does it pose to assess quality?"
   ]
  },
  {
   "attachments": {},
   "cell_type": "markdown",
   "metadata": {},
   "source": [
    "it is not very an exacly method, it can take a different output if you test the result with others variables, it is very sensity to the scale an form of the data set, been less exacly when you have non centers data, some times is not clear the optimal cuantity of cluster, and as the first meassure is the euclidean distance it is so strong with the clusters form, so it can not be so exacly with the optimal clusters calculates"
   ]
  }
 ],
 "metadata": {
  "language_info": {
   "name": "python"
  },
  "orig_nbformat": 4
 },
 "nbformat": 4,
 "nbformat_minor": 2
}
