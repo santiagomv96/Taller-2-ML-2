{
 "cells": [
  {
   "attachments": {},
   "cell_type": "markdown",
   "metadata": {},
   "source": [
    "## In which cases might it be more useful to apply?"
   ]
  },
  {
   "attachments": {},
   "cell_type": "markdown",
   "metadata": {},
   "source": [
    "it is very usefull when you have non-linear data, patrons between big sized data."
   ]
  },
  {
   "attachments": {},
   "cell_type": "markdown",
   "metadata": {},
   "source": [
    "## What are the mathematical fundamentals of it?"
   ]
  },
  {
   "attachments": {},
   "cell_type": "markdown",
   "metadata": {},
   "source": [
    "first it computes am afinity matrix between the rows of an original matrix, it usually uses euclidian distance, but it use any other, whe it has te matrix it uses a descomposisition by propers vectors to get patrons in the rows of the data, after that it takes the biggers values the propers values and with them choose the best components to group by and bind them "
   ]
  },
  {
   "attachments": {},
   "cell_type": "markdown",
   "metadata": {},
   "source": [
    "## What is the algorithm to compute it?\n"
   ]
  },
  {
   "attachments": {},
   "cell_type": "markdown",
   "metadata": {},
   "source": [
    "To build a similary matrix between pair of data, you can use differents ways to measure the disntace the most common is the euclidean distante\n",
    "\n",
    "to build a Laplaciano Matrix, taken the conecction in the data\n",
    "\n",
    "on this matrix comptutes the eigenvector, and take the most important k vectors\n",
    "\n",
    "finally uses any clustering algorithm to cluster the eingevertor matrix"
   ]
  },
  {
   "attachments": {},
   "cell_type": "markdown",
   "metadata": {},
   "source": [
    "## Does it hold any relation to some of the concepts previously mentioned in class? Which, and how?"
   ]
  },
  {
   "attachments": {},
   "cell_type": "markdown",
   "metadata": {},
   "source": [
    "I think is very similar to a dimessional reduction with PCA, both estrategies use proper vectors and values, and the uses the variace explaning to describe in a low dimenssion some data \n",
    "\n",
    "this method is similary to the T-SNE too, because it uses a similary matrix to describe the probability to a row be closes to another row"
   ]
  }
 ],
 "metadata": {
  "language_info": {
   "name": "python"
  },
  "orig_nbformat": 4
 },
 "nbformat": 4,
 "nbformat_minor": 2
}
