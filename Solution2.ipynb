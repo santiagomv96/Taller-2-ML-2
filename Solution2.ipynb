{
 "cells": [
  {
   "attachments": {},
   "cell_type": "markdown",
   "metadata": {},
   "source": [
    "## In which cases might it be more useful to apply?"
   ]
  },
  {
   "attachments": {},
   "cell_type": "markdown",
   "metadata": {},
   "source": [
    "this clustering tool is very useful when you have a lor of noise data, yuo do not know a exacly number oof clusters or you have a lot of atipycal information, when you have a lot of columns could be slow."
   ]
  },
  {
   "attachments": {},
   "cell_type": "markdown",
   "metadata": {},
   "source": [
    "## What are the mathematical fundamentals of it?"
   ]
  },
  {
   "attachments": {},
   "cell_type": "markdown",
   "metadata": {},
   "source": [
    "this algoritm initializes of a random way, first you must take toe mandatory param, eps: ratio disntance and minpts: minimun dots in a cluster, so when it has both params and choose an row in the data dbscan looks for another point in the eps, if it can found minpts or more it clasifies them as a cluster, and it propagates to the closer points an try to reply the steps, when it can not found the minpts dbscan classify that point as al line point and put it on the closes cluster in the eps, if it does not has the minpts in the eps an in its eps there is not a cluster dbscan clasiffy this point as noise "
   ]
  },
  {
   "attachments": {},
   "cell_type": "markdown",
   "metadata": {},
   "source": [
    "## Is there any relation between DBSCAN and Spectral Clustering? If so, what is it?"
   ]
  },
  {
   "attachments": {},
   "cell_type": "markdown",
   "metadata": {},
   "source": [
    "the relation is not so close for me when you see it from a math way, but in the results them have some commons thinks, the spectral clustering uses de propers vectors and values to get a conection in the rows, dbscan uses the density on the space to group them in a cluster, both can detect non-linear points of a correct way, both can get de variance of the points of a good way, both can catch the noise in the data but a different way."
   ]
  }
 ],
 "metadata": {
  "language_info": {
   "name": "python"
  },
  "orig_nbformat": 4
 },
 "nbformat": 4,
 "nbformat_minor": 2
}
